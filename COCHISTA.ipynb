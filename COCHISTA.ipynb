{
 "cells": [
  {
   "cell_type": "markdown",
   "metadata": {},
   "source": [
    "# Cochista"
   ]
  },
  {
   "cell_type": "code",
   "execution_count": 8,
   "metadata": {},
   "outputs": [
    {
     "name": "stdout",
     "output_type": "stream",
     "text": [
      "https://www.coches.net/volkswagen/golf/gasolina/segunda-mano/?pg=8 volkswagen/golf/gasolina/data.8.html\n",
      "https://www.coches.net/volkswagen/golf/gasolina/segunda-mano/?pg=10 volkswagen/golf/gasolina/data.10.html\n",
      "Error: volkswagen/golf/gasolina/data.10.html\n",
      "https://www.coches.net/toyota/prius/segunda-mano/?pg=1 toyota/prius/data.1.html\n",
      "Error: toyota/prius/data.1.html\n",
      "https://www.coches.net/toyota/prius/segunda-mano/?pg=6 toyota/prius/data.6.html\n",
      "Error: toyota/prius/data.6.html\n",
      "https://www.coches.net/toyota/prius/segunda-mano/?pg=8 toyota/prius/data.8.html\n",
      "Error: toyota/prius/data.8.html\n",
      "https://www.coches.net/toyota/prius/segunda-mano/?pg=9 toyota/prius/data.9.html\n",
      "Error: toyota/prius/data.9.html\n"
     ]
    }
   ],
   "source": [
    "%reload_ext autoreload\n",
    "%autoreload 2\n",
    "\n",
    "import cochista\n",
    "\n",
    "for q in \"volkswagen/polo/gasolina\", \"bmw/x1/diesel\", \"volkswagen/id3\", \"seat/ibiza\", \"seat/ibiza/gasolina\", \"mini/cooper\", \"volkswagen/golf\", \"volkswagen/golf/gasolina\", \"toyota/prius\", \"bmw/i3\", \"audi/a3\":\n",
    "    cochista.feed(q, pause=1)\n",
    "    cochista.createweb(q)\n"
   ]
  },
  {
   "cell_type": "code",
   "execution_count": 7,
   "metadata": {},
   "outputs": [],
   "source": [
    "cochista.feed(\"volkswagen/polo/gasolina\", pages=20)\n",
    "f = cochista.coches(\"volkswagen/polo/gasolina\")\n",
    "f[f.title.str.contains(\"1.4\")].to_json(\"volkswagen/polo/gasolina/data.json\", orient=\"records\")"
   ]
  }
 ],
 "metadata": {
  "kernelspec": {
   "display_name": "Python 3.10.4 ('.venv': venv)",
   "language": "python",
   "name": "python3"
  },
  "language_info": {
   "codemirror_mode": {
    "name": "ipython",
    "version": 3
   },
   "file_extension": ".py",
   "mimetype": "text/x-python",
   "name": "python",
   "nbconvert_exporter": "python",
   "pygments_lexer": "ipython3",
   "version": "3.10.4"
  },
  "orig_nbformat": 4,
  "vscode": {
   "interpreter": {
    "hash": "1adcbdb89ca18c9501dceae82d8a970d3f4940ea46aaae4d8be742e5af71ea8b"
   }
  }
 },
 "nbformat": 4,
 "nbformat_minor": 2
}
