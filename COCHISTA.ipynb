{
 "cells": [
  {
   "cell_type": "markdown",
   "metadata": {},
   "source": [
    "# Cochista"
   ]
  },
  {
   "cell_type": "code",
   "execution_count": 13,
   "metadata": {},
   "outputs": [],
   "source": [
    "%reload_ext autoreload\n",
    "%autoreload 2\n",
    "\n",
    "import cochista\n",
    "\n",
    "# for q in \"gasolina\", \"diesel\", \"volkswagen/polo/gasolina\", \"bmw/x1/diesel\", \"bmw/x1\", \"volkswagen/id3\", \"seat/ibiza\", \"seat/ibiza/gasolina\", \"mini/cooper\", \"volkswagen/golf\", \"volkswagen/golf/gasolina\", \"toyota/prius\", \"bmw/i3\", \"audi/a3\", \"audi/q3\", \"porsche\", \"ferrari\", \"volvo\", \"toyota\", \"opel\":\n",
    "for q in \"bmw/i3\":\n",
    "    cochista.feed(q, pause=1)\n",
    "    cochista.createweb(q)\n"
   ]
  },
  {
   "cell_type": "code",
   "execution_count": 11,
   "metadata": {},
   "outputs": [
    {
     "name": "stdout",
     "output_type": "stream",
     "text": [
      "diesel\n"
     ]
    },
    {
     "ename": "AttributeError",
     "evalue": "'DataFrame' object has no attribute 'km'",
     "output_type": "error",
     "traceback": [
      "\u001b[0;31m---------------------------------------------------------------------------\u001b[0m",
      "\u001b[0;31mAttributeError\u001b[0m                            Traceback (most recent call last)",
      "\u001b[1;32m/home/fprades/workspaces/cochista/COCHISTA.ipynb Cell 3\u001b[0m in \u001b[0;36m<cell line: 8>\u001b[0;34m()\u001b[0m\n\u001b[1;32m     <a href='vscode-notebook-cell://wsl%2Bubuntu-22.04/home/fprades/workspaces/cochista/COCHISTA.ipynb#W2sdnNjb2RlLXJlbW90ZQ%3D%3D?line=9'>10</a>\u001b[0m     \u001b[39mprint\u001b[39m(name)\n\u001b[1;32m     <a href='vscode-notebook-cell://wsl%2Bubuntu-22.04/home/fprades/workspaces/cochista/COCHISTA.ipynb#W2sdnNjb2RlLXJlbW90ZQ%3D%3D?line=10'>11</a>\u001b[0m     coches \u001b[39m=\u001b[39m cochista\u001b[39m.\u001b[39mcoches(name)\n\u001b[0;32m---> <a href='vscode-notebook-cell://wsl%2Bubuntu-22.04/home/fprades/workspaces/cochista/COCHISTA.ipynb#W2sdnNjb2RlLXJlbW90ZQ%3D%3D?line=11'>12</a>\u001b[0m     lren \u001b[39m=\u001b[39m scipy\u001b[39m.\u001b[39mstats\u001b[39m.\u001b[39mlinregress(coches\u001b[39m.\u001b[39;49mkm, coches\u001b[39m.\u001b[39mprice)\n\u001b[1;32m     <a href='vscode-notebook-cell://wsl%2Bubuntu-22.04/home/fprades/workspaces/cochista/COCHISTA.ipynb#W2sdnNjb2RlLXJlbW90ZQ%3D%3D?line=12'>13</a>\u001b[0m     deprec\u001b[39m.\u001b[39mappend(\u001b[39mdict\u001b[39m(name\u001b[39m=\u001b[39mname, N\u001b[39m=\u001b[39m\u001b[39mlen\u001b[39m(coches), slope\u001b[39m=\u001b[39mlren\u001b[39m.\u001b[39mslope, rvalue\u001b[39m=\u001b[39mlren\u001b[39m.\u001b[39mrvalue, pvalue\u001b[39m=\u001b[39mlren\u001b[39m.\u001b[39mpvalue, stderr\u001b[39m=\u001b[39mlren\u001b[39m.\u001b[39mstderr, intercept\u001b[39m=\u001b[39mlren\u001b[39m.\u001b[39mintercept))\n\u001b[1;32m     <a href='vscode-notebook-cell://wsl%2Bubuntu-22.04/home/fprades/workspaces/cochista/COCHISTA.ipynb#W2sdnNjb2RlLXJlbW90ZQ%3D%3D?line=14'>15</a>\u001b[0m pd\u001b[39m.\u001b[39mDataFrame(deprec)\n",
      "File \u001b[0;32m~/workspaces/cochista/.venv/lib/python3.10/site-packages/pandas/core/generic.py:5575\u001b[0m, in \u001b[0;36mNDFrame.__getattr__\u001b[0;34m(self, name)\u001b[0m\n\u001b[1;32m   5568\u001b[0m \u001b[39mif\u001b[39;00m (\n\u001b[1;32m   5569\u001b[0m     name \u001b[39mnot\u001b[39;00m \u001b[39min\u001b[39;00m \u001b[39mself\u001b[39m\u001b[39m.\u001b[39m_internal_names_set\n\u001b[1;32m   5570\u001b[0m     \u001b[39mand\u001b[39;00m name \u001b[39mnot\u001b[39;00m \u001b[39min\u001b[39;00m \u001b[39mself\u001b[39m\u001b[39m.\u001b[39m_metadata\n\u001b[1;32m   5571\u001b[0m     \u001b[39mand\u001b[39;00m name \u001b[39mnot\u001b[39;00m \u001b[39min\u001b[39;00m \u001b[39mself\u001b[39m\u001b[39m.\u001b[39m_accessors\n\u001b[1;32m   5572\u001b[0m     \u001b[39mand\u001b[39;00m \u001b[39mself\u001b[39m\u001b[39m.\u001b[39m_info_axis\u001b[39m.\u001b[39m_can_hold_identifiers_and_holds_name(name)\n\u001b[1;32m   5573\u001b[0m ):\n\u001b[1;32m   5574\u001b[0m     \u001b[39mreturn\u001b[39;00m \u001b[39mself\u001b[39m[name]\n\u001b[0;32m-> 5575\u001b[0m \u001b[39mreturn\u001b[39;00m \u001b[39mobject\u001b[39;49m\u001b[39m.\u001b[39;49m\u001b[39m__getattribute__\u001b[39;49m(\u001b[39mself\u001b[39;49m, name)\n",
      "\u001b[0;31mAttributeError\u001b[0m: 'DataFrame' object has no attribute 'km'"
     ]
    }
   ],
   "source": [
    "from pathlib import Path\n",
    "import scipy\n",
    "\n",
    "import pandas as pd\n",
    "\n",
    "deprec = []\n",
    "\n",
    "for f in Path(\"docs\").rglob(\"data.json\"):\n",
    "    name = f.parent.relative_to(Path(\"docs\"))\n",
    "    print(name)\n",
    "    coches = cochista.coches(name)\n",
    "    lren = scipy.stats.linregress(coches.km, coches.price)\n",
    "    deprec.append(dict(name=name, N=len(coches), slope=lren.slope, rvalue=lren.rvalue, pvalue=lren.pvalue, stderr=lren.stderr, intercept=lren.intercept))\n",
    "\n",
    "pd.DataFrame(deprec)\n",
    "\n",
    "\n",
    "\n",
    "\n"
   ]
  }
 ],
 "metadata": {
  "kernelspec": {
   "display_name": "Python 3.10.4 ('.venv': venv)",
   "language": "python",
   "name": "python3"
  },
  "language_info": {
   "codemirror_mode": {
    "name": "ipython",
    "version": 3
   },
   "file_extension": ".py",
   "mimetype": "text/x-python",
   "name": "python",
   "nbconvert_exporter": "python",
   "pygments_lexer": "ipython3",
   "version": "3.10.4"
  },
  "orig_nbformat": 4,
  "vscode": {
   "interpreter": {
    "hash": "1adcbdb89ca18c9501dceae82d8a970d3f4940ea46aaae4d8be742e5af71ea8b"
   }
  }
 },
 "nbformat": 4,
 "nbformat_minor": 2
}
